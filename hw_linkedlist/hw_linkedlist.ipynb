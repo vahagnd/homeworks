{
 "cells": [
  {
   "cell_type": "code",
   "execution_count": 2,
   "id": "06df9c1b",
   "metadata": {},
   "outputs": [],
   "source": [
    "#------------------------------------------------------------------------------------------------------------------"
   ]
  },
  {
   "cell_type": "code",
   "execution_count": 17,
   "id": "f783ecca",
   "metadata": {},
   "outputs": [],
   "source": [
    "class Node:\n",
    "    def __init__(self, val=None):\n",
    "        self.val = val\n",
    "        self.next = None"
   ]
  },
  {
   "cell_type": "code",
   "execution_count": 43,
   "id": "b0de8b6d",
   "metadata": {},
   "outputs": [],
   "source": [
    "class MyLinkedList:\n",
    "    def __init__(self):\n",
    "        self.head = None\n",
    "        self.count = 0\n",
    "    \n",
    "    def get(self, index):\n",
    "        if index < 0 or index >= self.length():\n",
    "            return -1\n",
    "        cur_node = self.head\n",
    "        for i in range(index):\n",
    "            cur_node = cur_node.next\n",
    "        return cur_node.val\n",
    "\n",
    "    def addAtHead(self, val):\n",
    "        temp_node = self.head\n",
    "        self.head = Node(val)\n",
    "        self.head.next = temp_node\n",
    "        self.count += 1\n",
    "        \n",
    "    def addAtTail(self, val):\n",
    "        cur_node = self.head\n",
    "        if not cur_node:\n",
    "            self.head = Node(val)\n",
    "        else:\n",
    "            while cur_node.next:\n",
    "                cur_node = cur_node.next\n",
    "            cur_node.next = Node(val)\n",
    "        self.count += 1\n",
    "        \n",
    "    def addAtIndex(self, index, val):\n",
    "        if index == 0:\n",
    "            self.addAtHead(val)\n",
    "        elif index == self.length():\n",
    "            self.addAtTail(val)\n",
    "        elif index < 0 or index > self.length():\n",
    "            return None\n",
    "        else:\n",
    "            cur_node = self.head\n",
    "            for i in range(index - 1):\n",
    "                cur_node = cur_node.next\n",
    "            new_node = Node(val)\n",
    "            new_node.next = cur_node.next\n",
    "            cur_node.next = new_node\n",
    "        self.count += 1\n",
    "        \n",
    "    def deleteAtIndex(self, index):\n",
    "        if index == 0:\n",
    "            self.head = self.head.next\n",
    "        elif index == self.length() - 1:\n",
    "            cur_node = self.head\n",
    "            while not cur_node.next.next:\n",
    "                cur_node = cur_node.next\n",
    "            cur_node.next = NoneNode(10).val\n",
    "        elif index < 0 or index >= self.length():\n",
    "            return None\n",
    "        else:\n",
    "            cur_node = self.head\n",
    "            for i in range(index - 1):\n",
    "                cur_node = cur_node.next\n",
    "            cur_node.next = cur_node.next.next\n",
    "        self.count -= 1\n",
    "    \n",
    "    def length(self):\n",
    "        return self.count"
   ]
  },
  {
   "cell_type": "code",
   "execution_count": null,
   "id": "97da31af",
   "metadata": {},
   "outputs": [],
   "source": []
  }
 ],
 "metadata": {
  "kernelspec": {
   "display_name": "Python 3 (ipykernel)",
   "language": "python",
   "name": "python3"
  },
  "language_info": {
   "codemirror_mode": {
    "name": "ipython",
    "version": 3
   },
   "file_extension": ".py",
   "mimetype": "text/x-python",
   "name": "python",
   "nbconvert_exporter": "python",
   "pygments_lexer": "ipython3",
   "version": "3.10.6"
  }
 },
 "nbformat": 4,
 "nbformat_minor": 5
}
