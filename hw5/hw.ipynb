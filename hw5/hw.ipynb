{
 "cells": [
  {
   "cell_type": "code",
   "execution_count": 69,
   "id": "4c80a159",
   "metadata": {},
   "outputs": [
    {
     "name": "stdout",
     "output_type": "stream",
     "text": [
      "32\n",
      "2\n"
     ]
    }
   ],
   "source": [
    "#1\n",
    "n = int(input())\n",
    "for i in range(2, n + 1):\n",
    "    if n % i == 0:\n",
    "        print(i)\n",
    "        break"
   ]
  },
  {
   "cell_type": "code",
   "execution_count": 4,
   "id": "f80bd8a4",
   "metadata": {},
   "outputs": [
    {
     "name": "stdout",
     "output_type": "stream",
     "text": [
      "5\n",
      "5\n",
      "5\n",
      "1\n",
      "2\n",
      "3\n",
      "0\n",
      "3\n"
     ]
    }
   ],
   "source": [
    "#2\n",
    "arr = []\n",
    "max_arr = 0\n",
    "while True:\n",
    "    n = int(input())\n",
    "    if n == 0:\n",
    "        break\n",
    "    arr.append(n)\n",
    "    max_arr = max(max_arr, n)\n",
    "print(arr.count(max_arr))"
   ]
  },
  {
   "cell_type": "code",
   "execution_count": 6,
   "id": "a7cfc256",
   "metadata": {},
   "outputs": [
    {
     "name": "stdout",
     "output_type": "stream",
     "text": [
      "12\n",
      "9\n",
      "6\n",
      "0\n",
      "1\n",
      "-1\n",
      "41\n",
      "28\n",
      "27\n",
      "17\n",
      "9\n",
      "1\n",
      "-1\n",
      "41\n",
      "27\n"
     ]
    }
   ],
   "source": [
    "#3\n",
    "arr = [int(input()) for _ in range(10)]\n",
    "for n in arr:\n",
    "    if n % 2 and (n < 3 or 7 < n < 11 or 13 < n < 17 or n > 23):\n",
    "        print(n)\n",
    "    else:\n",
    "        continue"
   ]
  },
  {
   "cell_type": "code",
   "execution_count": 14,
   "id": "01d097fa",
   "metadata": {},
   "outputs": [
    {
     "name": "stdout",
     "output_type": "stream",
     "text": [
      " a a d wd qw q    w\n"
     ]
    },
    {
     "data": {
      "text/plain": [
       "7"
      ]
     },
     "execution_count": 14,
     "metadata": {},
     "output_type": "execute_result"
    }
   ],
   "source": [
    "#4\n",
    "string = input()\n",
    "len(string.split())"
   ]
  },
  {
   "cell_type": "code",
   "execution_count": 15,
   "id": "87bcd704",
   "metadata": {},
   "outputs": [
    {
     "name": "stdout",
     "output_type": "stream",
     "text": [
      "a b c\n",
      "a\n",
      "b\n",
      "c\n"
     ]
    }
   ],
   "source": [
    "#5\n",
    "string = input()\n",
    "print(*string.split(), sep='\\n')"
   ]
  },
  {
   "cell_type": "code",
   "execution_count": 4,
   "id": "da036211",
   "metadata": {},
   "outputs": [
    {
     "name": "stdout",
     "output_type": "stream",
     "text": [
      "C:\\Documents\\Summer.pdf\n",
      "/home/Documents/Summer.pdf\n"
     ]
    }
   ],
   "source": [
    "#6\n",
    "path_windows = input()\n",
    "path_linux = path_windows.replace('C:', '/home').replace('\\\\', '/')\n",
    "print(path_linux)"
   ]
  },
  {
   "cell_type": "code",
   "execution_count": 5,
   "id": "1a3f8ef4",
   "metadata": {},
   "outputs": [
    {
     "name": "stdout",
     "output_type": "stream",
     "text": [
      "a\n",
      "b\n",
      "c\n",
      "d\n",
      "e\n"
     ]
    },
    {
     "data": {
      "text/plain": [
       "'a-->b-->c-->d-->e'"
      ]
     },
     "execution_count": 5,
     "metadata": {},
     "output_type": "execute_result"
    }
   ],
   "source": [
    "#7\n",
    "'-->'.join([input() for _ in range(5)])"
   ]
  },
  {
   "cell_type": "code",
   "execution_count": 6,
   "id": "02776730",
   "metadata": {},
   "outputs": [
    {
     "name": "stdout",
     "output_type": "stream",
     "text": [
      "5\n",
      "1\n",
      "3\n",
      "4\n",
      "-1\n",
      "0\n",
      "-1 0 1 3 4\n"
     ]
    }
   ],
   "source": [
    "#8\n",
    "n = int(input())\n",
    "arr = [int(input()) for _ in range(n)]\n",
    "print(*sorted(arr))"
   ]
  },
  {
   "cell_type": "code",
   "execution_count": 10,
   "id": "76513417",
   "metadata": {
    "scrolled": false
   },
   "outputs": [
    {
     "name": "stdout",
     "output_type": "stream",
     "text": [
      "1 2 5 5 -1 0\n",
      "[1, 2, -1, 5, 5, 0]\n"
     ]
    }
   ],
   "source": [
    "#9\n",
    "arr = [*map(int, input().split())]\n",
    "max_index = arr.index(max(arr))\n",
    "min_index = arr.index(min(arr))\n",
    "arr[max_index], arr[min_index] = arr[min_index], arr[max_index]\n",
    "print(arr)"
   ]
  },
  {
   "cell_type": "code",
   "execution_count": 12,
   "id": "ef45624e",
   "metadata": {},
   "outputs": [
    {
     "name": "stdout",
     "output_type": "stream",
     "text": [
      "4\n",
      "1\n",
      "12\n",
      "123\n",
      "1234\n"
     ]
    }
   ],
   "source": [
    "#10\n",
    "n = int(input())\n",
    "for i in range(1, n + 1):\n",
    "    print(''.join([*map(str, range(1, i + 1))]))"
   ]
  },
  {
   "cell_type": "code",
   "execution_count": 22,
   "id": "aa180825",
   "metadata": {},
   "outputs": [
    {
     "name": "stdout",
     "output_type": "stream",
     "text": [
      "5\n",
      "34 65 99 10 22\n",
      "1 22 34 56 99\n"
     ]
    }
   ],
   "source": [
    "#11\n",
    "n = int(input())\n",
    "arr = [*map(int, input().split())]\n",
    "for i in range(n):\n",
    "    arr[i] = int(''.join(sorted(str(arr[i]))))\n",
    "print(*sorted(arr))"
   ]
  },
  {
   "cell_type": "code",
   "execution_count": 26,
   "id": "d66a78cb",
   "metadata": {},
   "outputs": [
    {
     "name": "stdout",
     "output_type": "stream",
     "text": [
      "3\n",
      "0 0 0\n",
      "0 0 0\n",
      "1 0 1\n",
      "no\n"
     ]
    }
   ],
   "source": [
    "#12\n",
    "n = int(input())\n",
    "arr = [[*map(int, input().split())] for _ in range(n)]\n",
    "print(['no', 'yes'][all(arr[i][j] == arr[j][i] for i in range(n) for j in range(n))])"
   ]
  },
  {
   "cell_type": "code",
   "execution_count": 68,
   "id": "febbe00f",
   "metadata": {
    "scrolled": true
   },
   "outputs": [
    {
     "name": "stdout",
     "output_type": "stream",
     "text": [
      "3 7\n",
      "9 16 25 36 49\n"
     ]
    }
   ],
   "source": [
    "#13\n",
    "closed_range = lambda a, b: range(a, b + 1)\n",
    "print(*[i ** 2 for i in closed_range(*map(int, input().split()))])"
   ]
  },
  {
   "cell_type": "code",
   "execution_count": 34,
   "id": "0a446c7d",
   "metadata": {},
   "outputs": [
    {
     "name": "stdout",
     "output_type": "stream",
     "text": [
      "3 7 9 16\n",
      "1.7320508075688772\n",
      "2.6457513110645907\n",
      "3.0\n",
      "4.0\n"
     ]
    }
   ],
   "source": [
    "#14\n",
    "print(*[i ** 0.5 for i in map(int, input().split())], sep='\\n')"
   ]
  },
  {
   "cell_type": "code",
   "execution_count": 36,
   "id": "774023c0",
   "metadata": {},
   "outputs": [
    {
     "name": "stdout",
     "output_type": "stream",
     "text": [
      "2 3 9 4 0\n",
      "8 64 0\n"
     ]
    }
   ],
   "source": [
    "#15\n",
    "print(*[i ** 3 for i in map(int, input().split()) if i % 2 == 0])"
   ]
  },
  {
   "cell_type": "code",
   "execution_count": 53,
   "id": "c32a0ba7",
   "metadata": {},
   "outputs": [
    {
     "name": "stdout",
     "output_type": "stream",
     "text": [
      "A1 B1 C1 D1 E1 F1 G1 H1\n",
      "A2 B2 C2 D2 E2 F2 G2 H2\n",
      "A3 B3 C3 D3 E3 F3 G3 H3\n",
      "A4 B4 C4 D4 E4 F4 G4 H4\n",
      "A5 B5 C5 D5 E5 F5 G5 H5\n",
      "A6 B6 C6 D6 E6 F6 G6 H6\n",
      "A7 B7 C7 D7 E7 F7 G7 H7\n",
      "A8 B8 C8 D8 E8 F8 G8 H8\n"
     ]
    }
   ],
   "source": [
    "#16\n",
    "print(*[' '.join([\"_ABCDEFGH\"[i]+str(j) for i in range(1, 9)]) for j in range(1, 9)], sep='\\n')"
   ]
  },
  {
   "cell_type": "code",
   "execution_count": 67,
   "id": "1373ac2f",
   "metadata": {},
   "outputs": [
    {
     "name": "stdout",
     "output_type": "stream",
     "text": [
      "2 2\n",
      "10\n",
      "20\n",
      "11\n",
      "21\n",
      "10 20\n",
      "11 21\n"
     ]
    }
   ],
   "source": [
    "#17\n",
    "h, w = map(int, input().split()); print(*[' '.join([input() for i in range(w)]) for j in range(h)], sep='\\n')"
   ]
  },
  {
   "cell_type": "code",
   "execution_count": 55,
   "id": "fb5fc086",
   "metadata": {
    "scrolled": true
   },
   "outputs": [
    {
     "name": "stdout",
     "output_type": "stream",
     "text": [
      "3\n",
      "Anna\n",
      "Bella\n",
      "Caroline\n"
     ]
    },
    {
     "data": {
      "text/plain": [
       "('Anna', 'Bella', 'Caroline')"
      ]
     },
     "execution_count": 55,
     "metadata": {},
     "output_type": "execute_result"
    }
   ],
   "source": [
    "#18\n",
    "tuple(input() for _ in range(int(input())))"
   ]
  },
  {
   "cell_type": "code",
   "execution_count": 58,
   "id": "186265ab",
   "metadata": {},
   "outputs": [
    {
     "name": "stdout",
     "output_type": "stream",
     "text": [
      "5\n",
      "Mars\n",
      "Nestle\n",
      "Coca Cola\n",
      "Nestle\n",
      "Nestle\n",
      "Mars\n",
      "Coca Cola\n",
      "Nestle\n"
     ]
    }
   ],
   "source": [
    "#19\n",
    "print(*set(input() for _ in range(int(input()))), sep='\\n')"
   ]
  },
  {
   "cell_type": "code",
   "execution_count": 62,
   "id": "e70049ba",
   "metadata": {},
   "outputs": [
    {
     "name": "stdout",
     "output_type": "stream",
     "text": [
      "hello, how are you doing eee ggg wow, eh?\n",
      ", ? e g u w\n"
     ]
    }
   ],
   "source": [
    "#20\n",
    "print(*sorted(set(word[-1] for word in input().split())))"
   ]
  }
 ],
 "metadata": {
  "kernelspec": {
   "display_name": "Python 3 (ipykernel)",
   "language": "python",
   "name": "python3"
  },
  "language_info": {
   "codemirror_mode": {
    "name": "ipython",
    "version": 3
   },
   "file_extension": ".py",
   "mimetype": "text/x-python",
   "name": "python",
   "nbconvert_exporter": "python",
   "pygments_lexer": "ipython3",
   "version": "3.10.6"
  }
 },
 "nbformat": 4,
 "nbformat_minor": 5
}
