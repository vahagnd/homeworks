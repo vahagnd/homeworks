{
 "cells": [
  {
   "cell_type": "code",
   "execution_count": 169,
   "id": "20a81c05",
   "metadata": {},
   "outputs": [],
   "source": [
    "import datetime\n",
    "import math\n",
    "import os.path\n",
    "import struct\n",
    "import os\n",
    "import platform\n",
    "import multiprocessing\n",
    "import subprocess"
   ]
  },
  {
   "cell_type": "code",
   "execution_count": 170,
   "id": "5d474dde",
   "metadata": {
    "scrolled": true
   },
   "outputs": [
    {
     "name": "stdout",
     "output_type": "stream",
     "text": [
      "Python 3.10.6\r\n"
     ]
    }
   ],
   "source": [
    "#1\n",
    "!python3 --version"
   ]
  },
  {
   "cell_type": "code",
   "execution_count": 171,
   "id": "dc748194",
   "metadata": {},
   "outputs": [
    {
     "name": "stdout",
     "output_type": "stream",
     "text": [
      "2023-03-04 21:36:50.953862\n"
     ]
    }
   ],
   "source": [
    "#2\n",
    "print(datetime.datetime.now())"
   ]
  },
  {
   "cell_type": "code",
   "execution_count": 172,
   "id": "a1f75244",
   "metadata": {},
   "outputs": [
    {
     "name": "stdout",
     "output_type": "stream",
     "text": [
      "5\n"
     ]
    },
    {
     "data": {
      "text/plain": [
       "78.53981633974483"
      ]
     },
     "execution_count": 172,
     "metadata": {},
     "output_type": "execute_result"
    }
   ],
   "source": [
    "#3\n",
    "radius = float(input())\n",
    "math.pi * radius ** 2"
   ]
  },
  {
   "cell_type": "code",
   "execution_count": 173,
   "id": "14ad3822",
   "metadata": {
    "scrolled": false
   },
   "outputs": [
    {
     "name": "stdout",
     "output_type": "stream",
     "text": [
      "hw.py\n"
     ]
    },
    {
     "data": {
      "text/plain": [
       "'py'"
      ]
     },
     "execution_count": 173,
     "metadata": {},
     "output_type": "execute_result"
    }
   ],
   "source": [
    "#4\n",
    "filename = input()\n",
    "filename.split('.')[1]"
   ]
  },
  {
   "cell_type": "code",
   "execution_count": 175,
   "id": "9136d246",
   "metadata": {
    "scrolled": true
   },
   "outputs": [
    {
     "name": "stdout",
     "output_type": "stream",
     "text": [
      "Red Black\n"
     ]
    }
   ],
   "source": [
    "#5\n",
    "color_list = [\"Red\", \"Green\", \"White\", \"Black\"]\n",
    "print(color_list[0], color_list[-1])"
   ]
  },
  {
   "cell_type": "code",
   "execution_count": 176,
   "id": "2fb92eba",
   "metadata": {},
   "outputs": [
    {
     "name": "stdout",
     "output_type": "stream",
     "text": [
      "The examination will start from: 11 / 11 / 2011\n"
     ]
    }
   ],
   "source": [
    "#6\n",
    "exam_st_date = (11, 11, 2011)\n",
    "print(\"The examination will start from: {0} / {1} / {2}\".format(*exam_st_date))"
   ]
  },
  {
   "cell_type": "code",
   "execution_count": 177,
   "id": "01ff79a5",
   "metadata": {},
   "outputs": [
    {
     "data": {
      "text/plain": [
       "615"
      ]
     },
     "execution_count": 177,
     "metadata": {},
     "output_type": "execute_result"
    }
   ],
   "source": [
    "#7\n",
    "n = 5\n",
    "n = str(n)\n",
    "int(n) + int(n + n) + int(n + n + n)"
   ]
  },
  {
   "cell_type": "code",
   "execution_count": 178,
   "id": "4cdc67d7",
   "metadata": {},
   "outputs": [
    {
     "name": "stdout",
     "output_type": "stream",
     "text": [
      "16\n",
      "Your number is even.\n"
     ]
    }
   ],
   "source": [
    "#8\n",
    "n = int(input())\n",
    "print(f\"Your number is {['even', 'odd'][n % 2]}.\")"
   ]
  },
  {
   "cell_type": "code",
   "execution_count": 179,
   "id": "b822bf98",
   "metadata": {},
   "outputs": [
    {
     "data": {
      "text/plain": [
       "False"
      ]
     },
     "execution_count": 179,
     "metadata": {},
     "output_type": "execute_result"
    }
   ],
   "source": [
    "#9\n",
    "n = -1\n",
    "nums = [1, 2, 3, 4]\n",
    "n in nums"
   ]
  },
  {
   "cell_type": "code",
   "execution_count": 180,
   "id": "56b34e7a",
   "metadata": {
    "scrolled": true
   },
   "outputs": [
    {
     "name": "stdout",
     "output_type": "stream",
     "text": [
      "*\n",
      "**\n",
      "***\n",
      "****\n"
     ]
    }
   ],
   "source": [
    "#10\n",
    "nums = [1, 2, 3, 4]\n",
    "for i in nums:\n",
    "    print('*' * i)"
   ]
  },
  {
   "cell_type": "code",
   "execution_count": 181,
   "id": "a4e8d73a",
   "metadata": {
    "scrolled": true
   },
   "outputs": [
    {
     "data": {
      "text/plain": [
       "{'Black', 'White'}"
      ]
     },
     "execution_count": 181,
     "metadata": {},
     "output_type": "execute_result"
    }
   ],
   "source": [
    "#11\n",
    "color_list_1 = {\"White\", \"Black\", \"Red\"}\n",
    "color_list_2 = {\"Red\", \"Green\"}\n",
    "color_list_1.difference(color_list_2)"
   ]
  },
  {
   "cell_type": "code",
   "execution_count": 182,
   "id": "fa99da82",
   "metadata": {
    "scrolled": true
   },
   "outputs": [
    {
     "name": "stdout",
     "output_type": "stream",
     "text": [
      "212TrueNonehi(1+3j)\n"
     ]
    }
   ],
   "source": [
    "#12\n",
    "array = [\"21\", 2, True, None, \"hi\", 3j + 1]\n",
    "print(''.join(str(i) for i in array))"
   ]
  },
  {
   "cell_type": "code",
   "execution_count": 183,
   "id": "56da5266",
   "metadata": {},
   "outputs": [
    {
     "name": "stdout",
     "output_type": "stream",
     "text": [
      "12\n"
     ]
    }
   ],
   "source": [
    "#13\n",
    "a = 24\n",
    "b = 12\n",
    "for i in range(min(a, b), 0, -1):\n",
    "    if a % i == 0 and b % i == 0:\n",
    "        break\n",
    "print(i)"
   ]
  },
  {
   "cell_type": "code",
   "execution_count": 184,
   "id": "529edaeb",
   "metadata": {},
   "outputs": [
    {
     "name": "stdout",
     "output_type": "stream",
     "text": [
      "13\n"
     ]
    }
   ],
   "source": [
    "#14\n",
    "a = 1\n",
    "b = 13\n",
    "for i in range(max(a, b), a * b + 1):\n",
    "    if i % a == 0 and i % b == 0:\n",
    "        break\n",
    "print(i)"
   ]
  },
  {
   "cell_type": "code",
   "execution_count": 185,
   "id": "e783da81",
   "metadata": {
    "scrolled": true
   },
   "outputs": [
    {
     "data": {
      "text/plain": [
       "1.4142135623730951"
      ]
     },
     "execution_count": 185,
     "metadata": {},
     "output_type": "execute_result"
    }
   ],
   "source": [
    "#15\n",
    "x1, y1 = 1, 1\n",
    "x2, y2 = 0, 0\n",
    "((x1 - x2) ** 2 + (y1 - y2) ** 2) ** 0.5"
   ]
  },
  {
   "cell_type": "code",
   "execution_count": 186,
   "id": "08bb77ee",
   "metadata": {},
   "outputs": [
    {
     "data": {
      "text/plain": [
       "True"
      ]
     },
     "execution_count": 186,
     "metadata": {},
     "output_type": "execute_result"
    }
   ],
   "source": [
    "#16\n",
    "path = \"TestFolder/test.txt\"\n",
    "os.path.isfile(path)"
   ]
  },
  {
   "cell_type": "code",
   "execution_count": 187,
   "id": "e1a4c162",
   "metadata": {},
   "outputs": [
    {
     "data": {
      "text/plain": [
       "64"
      ]
     },
     "execution_count": 187,
     "metadata": {},
     "output_type": "execute_result"
    }
   ],
   "source": [
    "#17\n",
    "struct.calcsize(\"P\") * 8"
   ]
  },
  {
   "cell_type": "code",
   "execution_count": 188,
   "id": "ba3d7e66",
   "metadata": {
    "scrolled": true
   },
   "outputs": [
    {
     "name": "stdout",
     "output_type": "stream",
     "text": [
      "Name of the operating system: posix\n",
      "Name of the OS system: Linux\n",
      "Version of the operating system: 5.19.0-35-generic\n"
     ]
    }
   ],
   "source": [
    "#18\n",
    "print(\"Name of the operating system:\",os.name)\n",
    "print(\"Name of the OS system:\",platform.system())\n",
    "print(\"Version of the operating system:\",platform.release())"
   ]
  },
  {
   "cell_type": "code",
   "execution_count": 189,
   "id": "a674a497",
   "metadata": {},
   "outputs": [
    {
     "name": "stdout",
     "output_type": "stream",
     "text": [
      ".\n",
      "..\n",
      "hw.ipynb\n",
      ".ipynb_checkpoints\n",
      "TestFolder\n"
     ]
    },
    {
     "data": {
      "text/plain": [
       "0"
      ]
     },
     "execution_count": 189,
     "metadata": {},
     "output_type": "execute_result"
    }
   ],
   "source": [
    "#19 \n",
    "subprocess.call([\"ls\", \"-a\"])"
   ]
  },
  {
   "cell_type": "code",
   "execution_count": 190,
   "id": "3877b79c",
   "metadata": {},
   "outputs": [
    {
     "data": {
      "text/plain": [
       "4"
      ]
     },
     "execution_count": 190,
     "metadata": {},
     "output_type": "execute_result"
    }
   ],
   "source": [
    "#20\n",
    "multiprocessing.cpu_count()"
   ]
  },
  {
   "cell_type": "code",
   "execution_count": 191,
   "id": "dfe9d6d1",
   "metadata": {},
   "outputs": [
    {
     "data": {
      "text/plain": [
       "['hello.txt', 'test.txt', 'whynot.py', '.ipynb_checkpoints']"
      ]
     },
     "execution_count": 191,
     "metadata": {},
     "output_type": "execute_result"
    }
   ],
   "source": [
    "#21\n",
    "os.listdir(\"TestFolder/\")"
   ]
  },
  {
   "cell_type": "code",
   "execution_count": 192,
   "id": "42cc3458",
   "metadata": {},
   "outputs": [
    {
     "name": "stdout",
     "output_type": "stream",
     "text": [
      "1 2 3\n"
     ]
    }
   ],
   "source": [
    "#22\n",
    "a = 1\n",
    "b = 3\n",
    "c = 2\n",
    "maximum = max(a, b, c)\n",
    "minimum = min(a, b, c)\n",
    "middle = a + b + c - maximum - minimum\n",
    "print(minimum, middle, maximum)"
   ]
  },
  {
   "cell_type": "code",
   "execution_count": 193,
   "id": "8fe0e215",
   "metadata": {},
   "outputs": [
    {
     "data": {
      "text/plain": [
       "[<DirEntry 'test.txt'>,\n",
       " <DirEntry 'hello.txt'>,\n",
       " <DirEntry 'whynot.py'>,\n",
       " <DirEntry '.ipynb_checkpoints'>]"
      ]
     },
     "execution_count": 193,
     "metadata": {},
     "output_type": "execute_result"
    }
   ],
   "source": [
    "#23 ???\n",
    "dir_list = os.scandir(\"TestFolder/\")\n",
    "sorted(dir_list, key=os.path.getctime, reverse=True)"
   ]
  },
  {
   "cell_type": "code",
   "execution_count": 194,
   "id": "01e85949",
   "metadata": {},
   "outputs": [
    {
     "data": {
      "text/plain": [
       "False"
      ]
     },
     "execution_count": 194,
     "metadata": {},
     "output_type": "execute_result"
    }
   ],
   "source": [
    "#24\n",
    "n = 12\n",
    "nums = [13, 14, 15, 11]\n",
    "all(i > n for i in nums)"
   ]
  },
  {
   "cell_type": "code",
   "execution_count": 195,
   "id": "fe2b63e1",
   "metadata": {},
   "outputs": [
    {
     "data": {
      "text/plain": [
       "2"
      ]
     },
     "execution_count": 195,
     "metadata": {},
     "output_type": "execute_result"
    }
   ],
   "source": [
    "#25\n",
    "char = '\"'\n",
    "string = \"print(\\\"Version of the operating system:\\\",platform.release())\"\n",
    "string.count(char)"
   ]
  },
  {
   "cell_type": "code",
   "execution_count": 196,
   "id": "ed2d703f",
   "metadata": {
    "scrolled": true
   },
   "outputs": [
    {
     "data": {
      "text/plain": [
       "'whynot.py'"
      ]
     },
     "execution_count": 196,
     "metadata": {},
     "output_type": "execute_result"
    }
   ],
   "source": [
    "#26\n",
    "os.path.basename(\"TestFolder/whynot.py\")"
   ]
  },
  {
   "cell_type": "code",
   "execution_count": 197,
   "id": "22f9a418",
   "metadata": {},
   "outputs": [
    {
     "data": {
      "text/plain": [
       "[2, True, None, 'hi', (1+3j)]"
      ]
     },
     "execution_count": 197,
     "metadata": {},
     "output_type": "execute_result"
    }
   ],
   "source": [
    "#27\n",
    "array1 = [\"21\", 2, True, None, \"hi\", 3j + 1]\n",
    "array1 = array1[1:]\n",
    "array1"
   ]
  },
  {
   "cell_type": "code",
   "execution_count": 78,
   "id": "ee54f23c",
   "metadata": {
    "scrolled": false
   },
   "outputs": [
    {
     "name": "stdout",
     "output_type": "stream",
     "text": [
      "s\n"
     ]
    },
    {
     "ename": "ValueError",
     "evalue": "",
     "output_type": "error",
     "traceback": [
      "\u001b[0;31m---------------------------------------------------------------------------\u001b[0m",
      "\u001b[0;31mValueError\u001b[0m                                Traceback (most recent call last)",
      "Cell \u001b[0;32mIn[78], line 3\u001b[0m\n\u001b[1;32m      2\u001b[0m \u001b[38;5;28;01mtry\u001b[39;00m:\n\u001b[0;32m----> 3\u001b[0m     \u001b[38;5;28;43mfloat\u001b[39;49m\u001b[43m(\u001b[49m\u001b[38;5;28;43minput\u001b[39;49m\u001b[43m(\u001b[49m\u001b[43m)\u001b[49m\u001b[43m)\u001b[49m\n\u001b[1;32m      4\u001b[0m \u001b[38;5;28;01mexcept\u001b[39;00m:\n",
      "\u001b[0;31mValueError\u001b[0m: could not convert string to float: 's'",
      "\nDuring handling of the above exception, another exception occurred:\n",
      "\u001b[0;31mValueError\u001b[0m                                Traceback (most recent call last)",
      "Cell \u001b[0;32mIn[78], line 5\u001b[0m\n\u001b[1;32m      3\u001b[0m     \u001b[38;5;28mfloat\u001b[39m(\u001b[38;5;28minput\u001b[39m())\n\u001b[1;32m      4\u001b[0m \u001b[38;5;28;01mexcept\u001b[39;00m:\n\u001b[0;32m----> 5\u001b[0m     \u001b[38;5;28;01mraise\u001b[39;00m \u001b[38;5;167;01mValueError\u001b[39;00m\n",
      "\u001b[0;31mValueError\u001b[0m: "
     ]
    }
   ],
   "source": [
    "#28\n",
    "try:\n",
    "    float(input())\n",
    "except:\n",
    "    raise ValueError"
   ]
  },
  {
   "cell_type": "code",
   "execution_count": 198,
   "id": "1378cc78",
   "metadata": {},
   "outputs": [
    {
     "data": {
      "text/plain": [
       "2.12"
      ]
     },
     "execution_count": 198,
     "metadata": {},
     "output_type": "execute_result"
    }
   ],
   "source": [
    "#29\n",
    "n = 2.123123123\n",
    "r = 2\n",
    "round(n, r)"
   ]
  },
  {
   "cell_type": "code",
   "execution_count": 199,
   "id": "254d4820",
   "metadata": {},
   "outputs": [
    {
     "data": {
      "text/plain": [
       "True"
      ]
     },
     "execution_count": 199,
     "metadata": {},
     "output_type": "execute_result"
    }
   ],
   "source": [
    "#30\n",
    "string1 = \"buOngiOrnO\"\n",
    "string1 != string1.upper()"
   ]
  },
  {
   "cell_type": "code",
   "execution_count": 200,
   "id": "f366317f",
   "metadata": {
    "scrolled": true
   },
   "outputs": [
    {
     "data": {
      "text/plain": [
       "['b', 'u', 'O', 'n', 'g', 'i', 'O', 'r', 'n', 'O']"
      ]
     },
     "execution_count": 200,
     "metadata": {},
     "output_type": "execute_result"
    }
   ],
   "source": [
    "#31\n",
    "string2 = \"buOngiOrnO\"\n",
    "list(string2)"
   ]
  },
  {
   "cell_type": "code",
   "execution_count": 201,
   "id": "6c81e795",
   "metadata": {},
   "outputs": [
    {
     "data": {
      "text/plain": [
       "'/home/vahagn'"
      ]
     },
     "execution_count": 201,
     "metadata": {},
     "output_type": "execute_result"
    }
   ],
   "source": [
    "#32\n",
    "os.path.expanduser('~')"
   ]
  },
  {
   "cell_type": "code",
   "execution_count": 202,
   "id": "2f644f5a",
   "metadata": {},
   "outputs": [
    {
     "name": "stdout",
     "output_type": "stream",
     "text": [
      "1 0\n"
     ]
    }
   ],
   "source": [
    "#33\n",
    "t = True\n",
    "f = False\n",
    "print(int(t), int(f))"
   ]
  },
  {
   "cell_type": "code",
   "execution_count": 203,
   "id": "677e1231",
   "metadata": {},
   "outputs": [
    {
     "data": {
      "text/plain": [
       "'00001100'"
      ]
     },
     "execution_count": 203,
     "metadata": {},
     "output_type": "execute_result"
    }
   ],
   "source": [
    "#34\n",
    "x = 12\n",
    "format(x, '08b')"
   ]
  },
  {
   "cell_type": "code",
   "execution_count": 206,
   "id": "2dc1c29c",
   "metadata": {},
   "outputs": [
    {
     "name": "stdout",
     "output_type": "stream",
     "text": [
      "Max: 5\n",
      "Min: 1\n"
     ]
    }
   ],
   "source": [
    "#35\n",
    "nums = [1, 2, 3, 4, 5, 1, 5, 5, 1, 1, 1, 1]\n",
    "maximum = nums[0]\n",
    "minimum = nums[0]\n",
    "for n in nums:\n",
    "    if n > maximum:\n",
    "        maximum = n\n",
    "    elif n < minimum:\n",
    "        minimum = n\n",
    "print(f\"Max: {maximum}\\nMin: {minimum}\")"
   ]
  },
  {
   "cell_type": "code",
   "execution_count": 205,
   "id": "1a9577c5",
   "metadata": {
    "scrolled": true
   },
   "outputs": [
    {
     "data": {
      "text/plain": [
       "784"
      ]
     },
     "execution_count": 205,
     "metadata": {},
     "output_type": "execute_result"
    }
   ],
   "source": [
    "#36\n",
    "n = 7\n",
    "sum(i ** 3 for i in range(n + 1))"
   ]
  },
  {
   "cell_type": "code",
   "execution_count": null,
   "id": "583b0e00",
   "metadata": {},
   "outputs": [],
   "source": []
  }
 ],
 "metadata": {
  "kernelspec": {
   "display_name": "Python 3 (ipykernel)",
   "language": "python",
   "name": "python3"
  },
  "language_info": {
   "codemirror_mode": {
    "name": "ipython",
    "version": 3
   },
   "file_extension": ".py",
   "mimetype": "text/x-python",
   "name": "python",
   "nbconvert_exporter": "python",
   "pygments_lexer": "ipython3",
   "version": "3.10.6"
  }
 },
 "nbformat": 4,
 "nbformat_minor": 5
}
