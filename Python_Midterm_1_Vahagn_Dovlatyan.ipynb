{
 "cells": [
  {
   "cell_type": "code",
   "execution_count": 88,
   "id": "f391a0a0",
   "metadata": {},
   "outputs": [],
   "source": [
    "#1\n",
    "def triangle(n, c='#'):\n",
    "    return [[c for i in range(j)] for j in range(1, n + 1)]"
   ]
  },
  {
   "cell_type": "code",
   "execution_count": 89,
   "id": "20d35e5c",
   "metadata": {},
   "outputs": [],
   "source": [
    "#2\n",
    "def gcd(*numbers):\n",
    "    min_num = min(numbers)\n",
    "    for i in range(min_num, 0, -1):\n",
    "        if all(j % i == 0 for j in numbers):\n",
    "            return i"
   ]
  },
  {
   "cell_type": "code",
   "execution_count": 90,
   "id": "15c36c95",
   "metadata": {},
   "outputs": [],
   "source": [
    "#3\n",
    "def fib_count(n):\n",
    "    if n < 2:\n",
    "        return 1\n",
    "    else:\n",
    "        return fib_count(n - 1) + fib_count(n - 2) + 1"
   ]
  },
  {
   "cell_type": "code",
   "execution_count": 91,
   "id": "da8e2a44",
   "metadata": {},
   "outputs": [],
   "source": [
    "#4\n",
    "def is_prime(n):\n",
    "    if n < 2:\n",
    "        return False\n",
    "    for i in range(2, n // 2 + 1):\n",
    "        if n % i == 0:\n",
    "            return False\n",
    "    return True\n",
    "\n",
    "def prime_factors(n):\n",
    "    factors = {i for i in range(1, n + 1) if (n % i == 0 and is_prime(i))}\n",
    "    return sorted(list(factors))"
   ]
  },
  {
   "cell_type": "code",
   "execution_count": 92,
   "id": "7f821cd4",
   "metadata": {},
   "outputs": [],
   "source": [
    "#5\n",
    "def jumping_frog(pipes, jump_height):\n",
    "    current_height = pipes[0]\n",
    "    for pipe in pipes[1:]:\n",
    "        if abs(current_height - pipe) > jump_height:\n",
    "            return \"Game over\"\n",
    "        current_height = pipe\n",
    "    return \"Frog wins\""
   ]
  }
 ],
 "metadata": {
  "kernelspec": {
   "display_name": "Python 3 (ipykernel)",
   "language": "python",
   "name": "python3"
  },
  "language_info": {
   "codemirror_mode": {
    "name": "ipython",
    "version": 3
   },
   "file_extension": ".py",
   "mimetype": "text/x-python",
   "name": "python",
   "nbconvert_exporter": "python",
   "pygments_lexer": "ipython3",
   "version": "3.10.6"
  }
 },
 "nbformat": 4,
 "nbformat_minor": 5
}
