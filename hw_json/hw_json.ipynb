{
 "cells": [
  {
   "cell_type": "code",
   "execution_count": 1,
   "id": "7b000026",
   "metadata": {},
   "outputs": [],
   "source": [
    "import json"
   ]
  },
  {
   "cell_type": "code",
   "execution_count": 3,
   "id": "d9bbd2c0",
   "metadata": {},
   "outputs": [],
   "source": [
    "with open('few_shot_visdrone.json') as file:\n",
    "    data = json.load(file)"
   ]
  },
  {
   "cell_type": "code",
   "execution_count": 119,
   "id": "b87fdc8b",
   "metadata": {},
   "outputs": [],
   "source": [
    "def func(data):\n",
    "    result_list = []\n",
    "    none_dict = {'file_name' : None, 'categories': [], 'bboxes' : [], 'image_id': None}\n",
    "    current_dict = none_dict.copy()\n",
    "    current_image_id = 0\n",
    "    for annotation in data['annotations']:\n",
    "\n",
    "        if annotation['image_id'] != current_image_id:\n",
    "            result_list.append(current_dict)\n",
    "            current_image_id = annotation['image_id']\n",
    "            current_dict = none_dict.copy()\n",
    "\n",
    "        if not current_dict['file_name']:\n",
    "            current_dict['file_name'] = data['images'][current_image_id]['file_name']\n",
    "        \n",
    "        if not current_dict['image_id']:\n",
    "            current_dict['image_id'] = current_image_id\n",
    "            \n",
    "        if annotation['category_id'] not in current_dict['categories']:\n",
    "            current_dict['categories'].append(annotation['category_id'])\n",
    "        if annotation['bbox'] not in current_dict['bboxes']:\n",
    "            current_dict['bboxes'].append(annotation['bbox'])\n",
    "    \n",
    "    result_list.append(current_dict)\n",
    "\n",
    "    return result_list\n"
   ]
  },
  {
   "cell_type": "code",
   "execution_count": 121,
   "id": "0eddf880",
   "metadata": {},
   "outputs": [
    {
     "data": {
      "text/plain": [
       "88"
      ]
     },
     "execution_count": 121,
     "metadata": {},
     "output_type": "execute_result"
    }
   ],
   "source": [
    "len(func(data))"
   ]
  },
  {
   "cell_type": "code",
   "execution_count": 120,
   "id": "bdb2629a",
   "metadata": {},
   "outputs": [
    {
     "data": {
      "text/plain": [
       "dict_keys(['file_name', 'categories', 'bboxes', 'image_id'])"
      ]
     },
     "execution_count": 120,
     "metadata": {},
     "output_type": "execute_result"
    }
   ],
   "source": [
    "func(data)[0].keys()"
   ]
  }
 ],
 "metadata": {
  "kernelspec": {
   "display_name": "Python 3 (ipykernel)",
   "language": "python",
   "name": "python3"
  },
  "language_info": {
   "codemirror_mode": {
    "name": "ipython",
    "version": 3
   },
   "file_extension": ".py",
   "mimetype": "text/x-python",
   "name": "python",
   "nbconvert_exporter": "python",
   "pygments_lexer": "ipython3",
   "version": "3.10.6"
  }
 },
 "nbformat": 4,
 "nbformat_minor": 5
}
