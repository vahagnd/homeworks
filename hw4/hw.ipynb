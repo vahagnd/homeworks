{
 "cells": [
  {
   "cell_type": "code",
   "execution_count": 33,
   "id": "d11c3764",
   "metadata": {},
   "outputs": [],
   "source": [
    "from math import log2"
   ]
  },
  {
   "cell_type": "code",
   "execution_count": 70,
   "id": "b38514b0",
   "metadata": {},
   "outputs": [
    {
     "name": "stdout",
     "output_type": "stream",
     "text": [
      "10\n",
      "20\n",
      "33\n"
     ]
    },
    {
     "data": {
      "text/plain": [
       "63"
      ]
     },
     "execution_count": 70,
     "metadata": {},
     "output_type": "execute_result"
    }
   ],
   "source": [
    "#1\n",
    "int(input()) + int(input()) + int(input())"
   ]
  },
  {
   "cell_type": "code",
   "execution_count": 71,
   "id": "b2666fd0",
   "metadata": {},
   "outputs": [
    {
     "name": "stdout",
     "output_type": "stream",
     "text": [
      "95\n",
      "3\n",
      "2\n"
     ]
    },
    {
     "data": {
      "text/plain": [
       "285"
      ]
     },
     "execution_count": 71,
     "metadata": {},
     "output_type": "execute_result"
    }
   ],
   "source": [
    "#2\n",
    "b1 = int(input())\n",
    "q = int(input())\n",
    "n = int(input())\n",
    "b1 * q ** (n - 1)"
   ]
  },
  {
   "cell_type": "code",
   "execution_count": 72,
   "id": "fede827b",
   "metadata": {},
   "outputs": [
    {
     "name": "stdout",
     "output_type": "stream",
     "text": [
      "10\n"
     ]
    },
    {
     "data": {
      "text/plain": [
       "'The number 10 is even'"
      ]
     },
     "execution_count": 72,
     "metadata": {},
     "output_type": "execute_result"
    }
   ],
   "source": [
    "#3\n",
    "n = int(input())\n",
    "f\"The number {n} is {['even', 'odd'][n % 2]}\""
   ]
  },
  {
   "cell_type": "code",
   "execution_count": 73,
   "id": "823e5a8c",
   "metadata": {},
   "outputs": [
    {
     "name": "stdout",
     "output_type": "stream",
     "text": [
      "no pattern found\n"
     ]
    }
   ],
   "source": [
    "#4\n",
    "a = 1\n",
    "b = 2\n",
    "c = 2\n",
    "mx = max(a, b, c)\n",
    "mn = min(a, b, c)\n",
    "md = a + b + c - mn - mx\n",
    "if mn + mx == 2 * md:\n",
    "    print(\"arithmetic progression\")\n",
    "else:\n",
    "    print(\"no pattern found\")"
   ]
  },
  {
   "cell_type": "code",
   "execution_count": 74,
   "id": "d182555d",
   "metadata": {},
   "outputs": [
    {
     "name": "stdout",
     "output_type": "stream",
     "text": [
      "No\n"
     ]
    }
   ],
   "source": [
    "#5\n",
    "n = 23 * 7\n",
    "if (n < 100 or n > 999) and n % 7 == 0  and n % 23 == 0:\n",
    "    print(\"Yes\")\n",
    "else:\n",
    "    print(\"No\")"
   ]
  },
  {
   "cell_type": "code",
   "execution_count": 75,
   "id": "8c9a8d88",
   "metadata": {},
   "outputs": [
    {
     "name": "stdout",
     "output_type": "stream",
     "text": [
      "no solution\n"
     ]
    }
   ],
   "source": [
    "#6\n",
    "a = 1\n",
    "b = 0\n",
    "c = 1\n",
    "D = b ** 2 - 4 * a * c\n",
    "if D < 0:\n",
    "    print(\"no solution\")\n",
    "elif D == 0:\n",
    "    print(-b / (2 * a))\n",
    "else:\n",
    "    print((-b - D ** 0.5) / (2 * a), (-b + D ** 0.5) / (2 * a), sep='\\n')"
   ]
  },
  {
   "cell_type": "code",
   "execution_count": 76,
   "id": "cd624083",
   "metadata": {
    "scrolled": true
   },
   "outputs": [
    {
     "name": "stdout",
     "output_type": "stream",
     "text": [
      "8\n",
      "8 * 1 = 8\n",
      "8 * 2 = 16\n",
      "8 * 3 = 24\n",
      "8 * 4 = 32\n",
      "8 * 5 = 40\n",
      "8 * 6 = 48\n",
      "8 * 7 = 56\n",
      "8 * 8 = 64\n",
      "8 * 9 = 72\n",
      "8 * 10 = 80\n"
     ]
    }
   ],
   "source": [
    "#8\n",
    "n = int(input())\n",
    "for i in range(1, 11):\n",
    "    print(f\"{n} * {i} = {n * i}\")"
   ]
  },
  {
   "cell_type": "code",
   "execution_count": 77,
   "id": "fc1d4210",
   "metadata": {
    "scrolled": true
   },
   "outputs": [
    {
     "name": "stdout",
     "output_type": "stream",
     "text": [
      "2\n",
      "3\n",
      "4\n",
      "[3, 4]\n"
     ]
    }
   ],
   "source": [
    "#9\n",
    "n = int(input())\n",
    "arr = [int(input()) for _ in range(n)]\n",
    "print(arr)"
   ]
  },
  {
   "cell_type": "code",
   "execution_count": 78,
   "id": "b90da10b",
   "metadata": {
    "scrolled": true
   },
   "outputs": [
    {
     "name": "stdout",
     "output_type": "stream",
     "text": [
      "32\n",
      "1\n",
      "2\n",
      "4\n",
      "8\n",
      "16\n",
      "32\n"
     ]
    }
   ],
   "source": [
    "#10\n",
    "n = int(input())\n",
    "for i in range(1, n // 2 + 1):\n",
    "    if n % i == 0:\n",
    "        print(i)\n",
    "print(n)"
   ]
  },
  {
   "cell_type": "code",
   "execution_count": 5,
   "id": "4c8486b7",
   "metadata": {},
   "outputs": [
    {
     "name": "stdout",
     "output_type": "stream",
     "text": [
      "6\n",
      "10\n",
      "20\n",
      "15\n",
      "40\n",
      "45\n",
      "42\n",
      "3\n"
     ]
    }
   ],
   "source": [
    "#11\n",
    "n = int(input())\n",
    "if n == 0:\n",
    "    print(0)\n",
    "else:\n",
    "    count = 0\n",
    "    previous = int(input())\n",
    "    for _ in range(n - 1):\n",
    "        current = int(input())\n",
    "        count += current > previous\n",
    "        previous = current\n",
    "    print(count)"
   ]
  },
  {
   "cell_type": "code",
   "execution_count": 13,
   "id": "adbd009a",
   "metadata": {},
   "outputs": [
    {
     "name": "stdout",
     "output_type": "stream",
     "text": [
      "3\n",
      "a\n",
      "b\n",
      "c\n",
      "c\n",
      "b\n",
      "a\n"
     ]
    }
   ],
   "source": [
    "#12\n",
    "n = int(input())\n",
    "print(*[input() for _ in range(n)][::-1], sep='\\n')"
   ]
  },
  {
   "cell_type": "code",
   "execution_count": 8,
   "id": "8e724a41",
   "metadata": {},
   "outputs": [
    {
     "name": "stdout",
     "output_type": "stream",
     "text": [
      "6\n",
      "720\n"
     ]
    }
   ],
   "source": [
    "#13\n",
    "n = int(input())\n",
    "if n < 0:\n",
    "    raise(ValueError)\n",
    "elif n == 0:\n",
    "    print(1)\n",
    "else:\n",
    "    factorial = 1\n",
    "    for i in range(1, n + 1):\n",
    "        factorial *= i\n",
    "    print(factorial)"
   ]
  },
  {
   "cell_type": "code",
   "execution_count": 27,
   "id": "3e210178",
   "metadata": {},
   "outputs": [
    {
     "name": "stdout",
     "output_type": "stream",
     "text": [
      "36\n",
      "4 9 16 25 36\n"
     ]
    }
   ],
   "source": [
    "#14\n",
    "n = int(input())\n",
    "print(*[i ** 2 for i in range(2, int(n ** 0.5) + 1)])"
   ]
  },
  {
   "cell_type": "code",
   "execution_count": 32,
   "id": "d5867891",
   "metadata": {},
   "outputs": [
    {
     "name": "stdout",
     "output_type": "stream",
     "text": [
      "63\n",
      "1 2 4 8 16 32\n"
     ]
    }
   ],
   "source": [
    "#15\n",
    "n = int(input())\n",
    "print(*[2 ** i for i in range(int(log2(n)) + 1)])"
   ]
  },
  {
   "cell_type": "code",
   "execution_count": 81,
   "id": "1d7a9b5f",
   "metadata": {
    "scrolled": true
   },
   "outputs": [
    {
     "name": "stdout",
     "output_type": "stream",
     "text": [
      "1\n"
     ]
    },
    {
     "data": {
      "text/plain": [
       "'Yes'"
      ]
     },
     "execution_count": 81,
     "metadata": {},
     "output_type": "execute_result"
    }
   ],
   "source": [
    "#16\n",
    "['No', 'Yes'][log2(int(input())) % 1 == 0]"
   ]
  },
  {
   "cell_type": "code",
   "execution_count": 82,
   "id": "fb5d7317",
   "metadata": {},
   "outputs": [
    {
     "name": "stdout",
     "output_type": "stream",
     "text": [
      "hello\n",
      "my\n",
      "name\n",
      "is\n",
      "anton\n",
      "finish\n",
      "hello\n",
      "my\n",
      "name\n",
      "is\n",
      "anton\n"
     ]
    }
   ],
   "source": [
    "#17\n",
    "arr = []\n",
    "while True:\n",
    "    word = input()\n",
    "    if word in [\"end\", \"End\", \"finish\", \"Finish\", \"done\", \"Done\"]:\n",
    "        break\n",
    "    else:\n",
    "        arr.append(word)\n",
    "print(*arr, sep='\\n')"
   ]
  },
  {
   "cell_type": "code",
   "execution_count": 59,
   "id": "6e81eab7",
   "metadata": {
    "scrolled": true
   },
   "outputs": [
    {
     "name": "stdout",
     "output_type": "stream",
     "text": [
      "-10\n",
      "-8\n",
      "-10\n",
      "-2\n",
      "-10\n",
      "-10\n",
      "-10\n",
      "-10\n",
      "-10\n",
      "-10\n",
      "-10\n",
      "-10\n",
      "0\n",
      "-110\n"
     ]
    }
   ],
   "source": [
    "#18\n",
    "summ = 0\n",
    "num = -1\n",
    "while num < 0:\n",
    "    num = int(input())\n",
    "    summ += num * (num < 0)\n",
    "print(summ)"
   ]
  },
  {
   "cell_type": "code",
   "execution_count": 60,
   "id": "b8219f1a",
   "metadata": {},
   "outputs": [
    {
     "name": "stdout",
     "output_type": "stream",
     "text": [
      "123\n",
      "642\n"
     ]
    }
   ],
   "source": [
    "#19\n",
    "n = input()\n",
    "print(2 * int(n[::-1]))"
   ]
  },
  {
   "cell_type": "code",
   "execution_count": 69,
   "id": "3225ffda",
   "metadata": {},
   "outputs": [
    {
     "name": "stdout",
     "output_type": "stream",
     "text": [
      "123498\n",
      "No\n"
     ]
    }
   ],
   "source": [
    "#20\n",
    "n = input()\n",
    "k = int(n[0])\n",
    "for i in n[1:]:\n",
    "    if k > int(i):\n",
    "        print(\"No\")\n",
    "        break\n",
    "    k = int(i)\n",
    "else:\n",
    "    print(\"Yes\")"
   ]
  }
 ],
 "metadata": {
  "kernelspec": {
   "display_name": "Python 3 (ipykernel)",
   "language": "python",
   "name": "python3"
  },
  "language_info": {
   "codemirror_mode": {
    "name": "ipython",
    "version": 3
   },
   "file_extension": ".py",
   "mimetype": "text/x-python",
   "name": "python",
   "nbconvert_exporter": "python",
   "pygments_lexer": "ipython3",
   "version": "3.10.6"
  }
 },
 "nbformat": 4,
 "nbformat_minor": 5
}
